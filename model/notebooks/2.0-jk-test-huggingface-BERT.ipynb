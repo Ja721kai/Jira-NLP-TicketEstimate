{
 "cells": [
  {
   "cell_type": "code",
   "execution_count": null,
   "metadata": {},
   "outputs": [],
   "source": [
    "# Load Base Model\n",
    "from transformers import AutoTokenizer, AutoModelForSequenceClassification\n",
    "\n",
    "BASE_MODEL = \"TBD\"\n",
    "LEARNING_RATE = 2e-5\n",
    "MAX_LENGTH = 256\n",
    "BATCH_SIZE = 16\n",
    "EPOCHS = 20\n",
    "\n",
    "id2label = #TODO: Define {0,1,2,.. : 1h,2h,4h,..} \n",
    "label2id = #TODO: inverted id2label\n",
    "\n",
    "tokenizer = AutoTokenizer.from_pretrained(BASE_MODEL)\n",
    "# classification:\n",
    "model = AutoModelForSequenceClassification.from_pretrained(BASE_MODEL, id2label=id2label, label2id=label2id)\n",
    "# regression:\n",
    "model = AutoModelForSequenceClassification.from_pretrained(BASE_MODEL, num_labels=1)"
   ]
  },
  {
   "cell_type": "code",
   "execution_count": null,
   "metadata": {},
   "outputs": [],
   "source": [
    "# Tokenize input\n",
    "def tokenizer(df):\n",
    "    label = df[\"y\"] \n",
    "    df = tokenizer(df[\"X\"], truncation=True, padding=\"max_length\", max_length=256)\n",
    "    # classification:\n",
    "    df[\"y\"] = label\n",
    "    # regression\n",
    "    df[\"y\"] = float(label)\n",
    "    return df"
   ]
  },
  {
   "cell_type": "code",
   "execution_count": null,
   "metadata": {},
   "outputs": [],
   "source": [
    "# Prepare Dataset\n",
    "import pandas as pd\n",
    "import numpy as np\n",
    "from sklearn.model_selection import train_test_split\n",
    "\n",
    "PATH = \"../\" #TBD\n",
    "\n",
    "# Load Dataset:\n",
    "df = pd.read_csv(PATH)\n",
    "\n",
    "X_train, X_test, y_train, y_test = train_test_split(df[\"X\"], df[\"y\"], test_size=0.20, random_state=123)\n",
    "\n",
    "#TODO: Fix this, train & validation need to be of dim (X, 2)\n",
    "ds = {\"train\": raw_train_ds, \"test\": raw_test_ds}"
   ]
  },
  {
   "cell_type": "code",
   "execution_count": null,
   "metadata": {},
   "outputs": [],
   "source": [
    "# Training\n",
    "from transformers import TrainingArguments\n",
    "from transformers import Trainer\n",
    "#TODO: Check why imports not working, huggingface API:\n",
    "# https://huggingface.co/docs/transformers/v4.24.0/en/main_classes/trainer#transformers.TrainingArguments\n",
    "# https://huggingface.co/docs/transformers/v4.24.0/en/main_classes/trainer\n",
    "\n",
    "training_args = TrainingArguments(\n",
    "    output_dir=\"TBD\",\n",
    "    learning_rate=LEARNING_RATE,\n",
    "    per_device_train_batch_size=BATCH_SIZE,\n",
    "    per_device_eval_batch_size=BATCH_SIZE,\n",
    "    num_train_epochs=EPOCHS,\n",
    "    evaluation_strategy=\"epoch\",\n",
    "    save_strategy=\"epoch\",\n",
    "    metric_for_best_model=\"accuracy\",\n",
    "    load_best_model_at_end=True,\n",
    "    weight_decay=0.01,\n",
    ")\n",
    "\n",
    "trainer = Trainer(\n",
    "    model=model,\n",
    "    args=training_args,\n",
    "    train_dataset=ds[\"train\"],\n",
    "    eval_dataset=ds[\"validation\"],\n",
    "    compute_metrics=compute_metrics\n",
    ")\n",
    "\n",
    "trainer.train()"
   ]
  },
  {
   "cell_type": "code",
   "execution_count": null,
   "metadata": {},
   "outputs": [],
   "source": [
    "# Evaluation\n",
    "\n",
    "# classification:\n",
    "trainer.evaluate()\n",
    "\n",
    "# regression:\n",
    "# TODO: Change evaluation metric from accuracy to MSE / RMSE / MAE for regression, if needed\n",
    "# -> override \"compute_metrics\" parameter of Trainer"
   ]
  },
  {
   "cell_type": "code",
   "execution_count": null,
   "metadata": {},
   "outputs": [],
   "source": []
  }
 ],
 "metadata": {
  "kernelspec": {
   "display_name": "Python 3",
   "language": "python",
   "name": "python3"
  },
  "language_info": {
   "codemirror_mode": {
    "name": "ipython",
    "version": 3
   },
   "file_extension": ".py",
   "mimetype": "text/x-python",
   "name": "python",
   "nbconvert_exporter": "python",
   "pygments_lexer": "ipython3",
   "version": "3.8.5"
  }
 },
 "nbformat": 4,
 "nbformat_minor": 4
}
